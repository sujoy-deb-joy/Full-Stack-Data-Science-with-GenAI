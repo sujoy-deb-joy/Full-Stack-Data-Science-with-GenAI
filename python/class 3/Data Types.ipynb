{
 "cells": [
  {
   "cell_type": "markdown",
   "id": "1a7e943b-c0c3-4e6c-a9b3-8799f79a2b14",
   "metadata": {
    "jupyter": {
     "outputs_hidden": true
    }
   },
   "source": [
    "### Data Types and Variables in Python\n",
    "\n",
    "Data types in Python represent the type or category of data that a variable can store. Python supports various built-in data types, including integers, floating-point numbers, strings, lists, tuples, dictionaries, etc. Variables are used to store and manipulate data in a Python program.\n",
    "\n",
    "#### Variables:\n",
    "\n",
    "Variables are named containers used to store data values. They provide a way to label and reference data in a program. In Python, variables do not need to be declared explicitly and their data type is inferred based on the value assigned to them.\n",
    "\n",
    "**Assigning Values to Variables:**\n"
   ]
  },
  {
   "cell_type": "code",
   "execution_count": 29,
   "id": "39db1dae-e78c-4b29-84df-2ae03586cb4e",
   "metadata": {
    "tags": []
   },
   "outputs": [],
   "source": [
    "# Assigning values to variables\n",
    "x = 10  # Integer\n",
    "y = 3.14  # Float\n",
    "name = \"Alice\"  # String\n",
    "is_valid = True  # Boolean\n",
    "\n"
   ]
  },
  {
   "cell_type": "markdown",
   "id": "f576b7b3-abb9-4308-b78c-eae84e1233a2",
   "metadata": {},
   "source": [
    "Explanation:\n",
    "- In the above example, values of different data types (integer, float, string, boolean) are assigned to variables `x`, `y`, `name`, and `is_valid`.\n",
    "- Python variables are case-sensitive, meaning `name` and `Name` are considered different variables.\n",
    "- Variables can store data of any type, and their data type is determined dynamically based on the value assigned to them.\n",
    "\n",
    "**Printing Variable Values:**\n"
   ]
  },
  {
   "cell_type": "code",
   "execution_count": 30,
   "id": "e29b881f-a0cb-475d-9553-10c47287c028",
   "metadata": {
    "tags": []
   },
   "outputs": [
    {
     "name": "stdout",
     "output_type": "stream",
     "text": [
      "x: 10\n",
      "y: 3.14\n",
      "name: Alice\n",
      "is_valid: True\n"
     ]
    }
   ],
   "source": [
    "# Printing variable values\n",
    "print(\"x:\", x)         # Output: x: 10\n",
    "print(\"y:\", y)         # Output: y: 3.14\n",
    "print(\"name:\", name)   # Output: name: Alice\n",
    "print(\"is_valid:\", is_valid)  # Output: is_valid: True\n"
   ]
  },
  {
   "cell_type": "markdown",
   "id": "c98add5b-55bc-4f3c-a75f-9e925182b7bf",
   "metadata": {},
   "source": [
    "Explanation:\n",
    "- The `print()` function is used to display the values stored in variables `x`, `y`, `name`, and `is_valid`.\n",
    "- It prints the variable name followed by a colon (:) and the value stored in the variable.\n",
    "\n",
    "#### Data Types:\n",
    "\n",
    "Data types in Python define the type of data that a variable can store. Each data type has specific operations and functions associated with it. Python provides various built-in data types, including integers, floating-point numbers, strings, lists, tuples, dictionaries, etc.\n",
    "\n",
    "**Commonly Used Data Types in Python:**\n"
   ]
  },
  {
   "cell_type": "code",
   "execution_count": 31,
   "id": "084b8405-2351-4ff2-adc9-697c0c7fa2af",
   "metadata": {
    "tags": []
   },
   "outputs": [
    {
     "name": "stdout",
     "output_type": "stream",
     "text": [
      "Type of a: <class 'int'>\n",
      "Type of b: <class 'float'>\n",
      "Type of c: <class 'str'>\n",
      "Type of d: <class 'list'>\n",
      "Type of e: <class 'tuple'>\n",
      "Type of f: <class 'dict'>\n"
     ]
    }
   ],
   "source": [
    "# Commonly used data types in Python\n",
    "a = 10             # Integer\n",
    "b = 3.14           # Float\n",
    "c = \"Hello\"        # String\n",
    "d = [1, 2, 3]      # List\n",
    "e = (1, 2, 3)      # Tuple\n",
    "f = {\"a\": 1, \"b\": 2}  # Dictionary\n",
    "\n",
    "# Printing the data types of variables\n",
    "print(\"Type of a:\", type(a))  # Output: Type of a: <class 'int'>\n",
    "print(\"Type of b:\", type(b))  # Output: Type of b: <class 'float'>\n",
    "print(\"Type of c:\", type(c))  # Output: Type of c: <class 'str'>\n",
    "print(\"Type of d:\", type(d))  # Output: Type of d: <class 'list'>\n",
    "print(\"Type of e:\", type(e))  # Output: Type of e: <class 'tuple'>\n",
    "print(\"Type of f:\", type(f))  # Output: Type of f: <class 'dict'>\n"
   ]
  },
  {
   "cell_type": "markdown",
   "id": "8a8e1160-d4e0-49fa-9830-7e06980c5993",
   "metadata": {},
   "source": [
    "Explanation:\n",
    "- In the above example, variables `a`, `b`, `c`, `d`, `e`, and `f` are assigned values of different data types (integer, float, string, list, tuple, dictionary).\n",
    "- The `type()` function is used to determine the data type of each variable.\n",
    "- It returns the type of the variable as a class object.\n",
    "\n",
    "**Conclusion:**\n",
    "\n",
    "Understanding data types and variables is essential in Python programming as they form the foundation for working with data and performing operations on it.\n"
   ]
  },
  {
   "cell_type": "code",
   "execution_count": 32,
   "id": "3bdf01ac-0899-4970-aeb8-9d88d95733cf",
   "metadata": {
    "tags": []
   },
   "outputs": [
    {
     "ename": "NameError",
     "evalue": "name 'sum_with_return' is not defined",
     "output_type": "error",
     "traceback": [
      "\u001b[0;31m---------------------------------------------------------------------------\u001b[0m",
      "\u001b[0;31mNameError\u001b[0m                                 Traceback (most recent call last)",
      "Cell \u001b[0;32mIn[32], line 1\u001b[0m\n\u001b[0;32m----> 1\u001b[0m sum_with_return(\u001b[38;5;241m10\u001b[39m,\u001b[38;5;241m5\u001b[39m)\n",
      "\u001b[0;31mNameError\u001b[0m: name 'sum_with_return' is not defined"
     ]
    }
   ],
   "source": [
    "sum_with_return(10,5)"
   ]
  },
  {
   "cell_type": "markdown",
   "id": "40158bd1-e823-48d7-b4ac-1ea48128734d",
   "metadata": {
    "tags": []
   },
   "source": [
    "### Understanding Data Types in Python\n",
    "\n",
    "Data types in Python represent the type or category of data that a variable can store. Python supports various built-in data types, each serving a specific purpose. Let's explore some common data types in Python:\n",
    "\n",
    "#### 1. Numeric Data Types:\n",
    "\n",
    "- **Integers (`int`):** Integers are whole numbers without any decimal point. They can be positive, negative, or zero.\n",
    "\n",
    "- **Floating-Point Numbers (`float`):** Floating-point numbers, or floats, are numbers with a decimal point or exponential form.\n",
    "\n",
    "#### 2. Sequence Data Types:\n",
    "\n",
    "- **Strings (`str`):** Strings are ordered collections of characters enclosed in single quotes (''), double quotes (\"\") or triple quotes ('''). They represent textual data.\n",
    "\n",
    "- **Lists (`list`):** Lists are ordered collections of items separated by commas and enclosed in square brackets ([]). They can contain elements of different data types and are mutable (modifiable).\n",
    "\n",
    "- **Tuples (`tuple`):** Tuples are ordered collections of items separated by commas and enclosed in parentheses (()). They are similar to lists but are immutable (unchangeable).\n",
    "\n",
    "#### 3. Mapping Data Type:\n",
    "\n",
    "- **Dictionaries (`dict`):** Dictionaries are collections of key-value pairs enclosed in curly braces ({ }). Each key is associated with a value, and they are unordered.\n",
    "\n",
    "#### 4. Set Data Type:\n",
    "\n",
    "- **Sets (`set`):** Sets are unordered collections of unique items enclosed in curly braces ({ }). They do not allow duplicate elements.\n",
    "\n",
    "#### 5. Boolean Data Type:\n",
    "\n",
    "- **Boolean (`bool`):** Boolean represents one of two values: `True` or `False`. It is often used for logical operations and conditions.\n",
    "\n",
    "#### 6. None Type:\n",
    "\n",
    "- **None (`NoneType`):** None represents the absence of a value or a null value. It is commonly used to signify that a variable has not been assigned a value yet.\n"
   ]
  },
  {
   "cell_type": "code",
   "execution_count": 5,
   "id": "aa4befcf-365f-4ab5-9b05-014923aa2422",
   "metadata": {
    "tags": []
   },
   "outputs": [
    {
     "name": "stdout",
     "output_type": "stream",
     "text": [
      "Integer: 10\n",
      "Float: 3.14\n",
      "String: Alice\n",
      "List: [1, 2, 3]\n",
      "Tuple: (10, 20)\n",
      "Dictionary: {'name': 'Alice', 'age': 30, 'city': 'New York'}\n",
      "Set: {1, 2, 3, 4, 5}\n",
      "Boolean: True\n",
      "None Type: None\n"
     ]
    }
   ],
   "source": [
    "# Numeric Data Types\n",
    "x = 10          # Integer\n",
    "y = 3.14        # Float\n",
    "\n",
    "print(\"Integer:\", x)\n",
    "print(\"Float:\", y)\n",
    "\n",
    "# Sequence Data Types\n",
    "name = \"Alice\"              # String\n",
    "numbers_list = [1, 2, 3]    # List\n",
    "coordinates_tuple = (10, 20)  # Tuple\n",
    "\n",
    "print(\"String:\", name)\n",
    "print(\"List:\", numbers_list)\n",
    "print(\"Tuple:\", coordinates_tuple)\n",
    "\n",
    "# Mapping Data Type\n",
    "person = {\"name\": \"Alice\", \"age\": 30, \"city\": \"New York\"}  # Dictionary\n",
    "\n",
    "print(\"Dictionary:\", person)\n",
    "\n",
    "# Set Data Type\n",
    "unique_numbers_set = {1, 2, 3, 4, 5}  # Set\n",
    "\n",
    "print(\"Set:\", unique_numbers_set)\n",
    "\n",
    "# Boolean Data Type\n",
    "is_valid = True   # Boolean\n",
    "\n",
    "print(\"Boolean:\", is_valid)\n",
    "\n",
    "# None Type\n",
    "empty_value = None   # None\n",
    "\n",
    "print(\"None Type:\", empty_value)\n"
   ]
  },
  {
   "cell_type": "markdown",
   "id": "188b0785-fe39-4dbc-a6e9-7af11c4c2b59",
   "metadata": {},
   "source": [
    "### Understanding Dynamic Behavior of Variables in Python\n",
    "\n",
    "In Python, variables exhibit dynamic behavior, meaning they can change their data type during the execution of the program. Unlike statically typed languages, such as C++ or Java, where the data type of a variable is fixed at compile time, Python allows variables to be assigned values of different data types at runtime.\n",
    "\n",
    "#### Dynamic Behavior Explained:\n",
    "\n",
    "\n"
   ]
  },
  {
   "cell_type": "code",
   "execution_count": 6,
   "id": "7802771a-da28-4f40-b74e-bdcb58823535",
   "metadata": {
    "tags": []
   },
   "outputs": [
    {
     "name": "stdout",
     "output_type": "stream",
     "text": [
      "x: 10\n",
      "Type of x: <class 'int'>\n",
      "x: 3.14\n",
      "Type of x: <class 'float'>\n",
      "x: Hello\n",
      "Type of x: <class 'str'>\n"
     ]
    }
   ],
   "source": [
    "# Dynamic Behavior of Variables Example\n",
    "x = 10          # Integer\n",
    "print(\"x:\", x)\n",
    "print(\"Type of x:\", type(x))\n",
    "\n",
    "x = 3.14        # Float\n",
    "print(\"x:\", x)\n",
    "print(\"Type of x:\", type(x))\n",
    "\n",
    "x = \"Hello\"     # String\n",
    "print(\"x:\", x)\n",
    "print(\"Type of x:\", type(x))"
   ]
  },
  {
   "cell_type": "markdown",
   "id": "a3fcbbf4-026e-4f53-aa2f-de33f39f0e08",
   "metadata": {
    "tags": []
   },
   "source": [
    "#### Explanation:\n",
    "\n",
    "In the above example, the variable `x` is initially assigned an integer value (`10`). We then print the value of `x` and its data type using the `type()` function. Afterward, we reassign `x` with a float value (`3.14`) and print its value and data type again. Finally, we assign `x` with a string value (`\"Hello\"`) and print its value and data type once more.\n",
    "\n",
    "This demonstrates the dynamic behavior of variables in Python, where the same variable `x` can hold values of different data types at different points in the program execution.\n"
   ]
  },
  {
   "cell_type": "markdown",
   "id": "dc9907a0-fd29-41e2-aea8-860ff0f0a842",
   "metadata": {},
   "source": [
    "### Managing Data Type Size Dynamically in Python\n",
    "\n",
    "In Python, the size of a data type is managed dynamically by the interpreter, allowing flexibility in memory allocation based on the value assigned to the variable. Python abstracts away the memory management details, making it convenient for developers to focus on writing code without worrying about memory allocation and deallocation.\n",
    "\n",
    "#### Using `sys.getsizeof()` Function:\n",
    "\n"
   ]
  },
  {
   "cell_type": "code",
   "execution_count": 11,
   "id": "d3c99af8-1861-4250-a144-a3b45e502a93",
   "metadata": {
    "tags": []
   },
   "outputs": [
    {
     "name": "stdout",
     "output_type": "stream",
     "text": [
      "Size of x: 28\n",
      "Size of x: 36\n",
      "Size of y: 54\n",
      "Size of z: 88\n"
     ]
    }
   ],
   "source": [
    "\n",
    "import sys\n",
    "\n",
    "# Example demonstrating dynamic memory allocation in Python\n",
    "x = 10\n",
    "print(\"Size of x:\", sys.getsizeof(x))\n",
    "\n",
    "x = 10945815802105915812\n",
    "print(\"Size of x:\", sys.getsizeof(x))\n",
    "\n",
    "y = \"Hello\"\n",
    "print(\"Size of y:\", sys.getsizeof(y))\n",
    "\n",
    "z = [1, 2, 3]\n",
    "print(\"Size of z:\", sys.getsizeof(z))\n"
   ]
  },
  {
   "cell_type": "markdown",
   "id": "0c636970-454f-446a-bde3-eabda58482f6",
   "metadata": {
    "tags": []
   },
   "source": [
    "#### Explanation:\n",
    "\n",
    "In the above code snippet, we use the `sys.getsizeof()` function from the `sys` module to determine the size of different data types in Python. We assign values of various data types to variables (`x`, `y`, `z`) and then print their respective sizes.\n",
    "\n",
    "- For an integer value (`x = 10`), the size may vary depending on the value and the underlying platform.\n",
    "- For a string value (`y = \"Hello\"`), the size depends on the length of the string and any additional memory overhead.\n",
    "- For a list (`z = [1, 2, 3]`), the size depends on the number of elements in the list and any additional memory overhead.\n",
    "\n",
    "This demonstrates how Python dynamically manages the size of different data types based on their values, allowing efficient memory usage.\n"
   ]
  },
  {
   "cell_type": "markdown",
   "id": "9698f70e-be90-4426-9285-82cc4b7ad55d",
   "metadata": {},
   "source": [
    "### Understanding Numeric Data Types in Python\n",
    "\n",
    "Numeric data types in Python are used to represent numerical values. There are three main numeric data types in Python:\n",
    "\n",
    "1. **Integers (`int`):** Integers are whole numbers without any decimal point. They can be positive, negative, or zero.\n",
    "\n",
    "2. **Floating-Point Numbers (`float`):** Floating-point numbers, or floats, are numbers with a decimal point or exponential form.\n",
    "\n",
    "3. **Complex Numbers (`complex`):** Complex numbers are numbers with a real and imaginary part represented as `real + imaginaryj`.\n",
    "\n",
    "#### Python Code:\n",
    "\n"
   ]
  },
  {
   "cell_type": "code",
   "execution_count": null,
   "id": "d19eb4d7-3657-4544-9fa7-48b6c48fd6a8",
   "metadata": {},
   "outputs": [],
   "source": []
  },
  {
   "cell_type": "code",
   "execution_count": 12,
   "id": "d4307575-9224-4cf4-a38e-e2d4007febf8",
   "metadata": {
    "tags": []
   },
   "outputs": [
    {
     "name": "stdout",
     "output_type": "stream",
     "text": [
      "Integer Number: 10\n",
      "Type of Integer Number: <class 'int'>\n",
      "Floating-Point Number: 3.14\n",
      "Type of Floating-Point Number: <class 'float'>\n",
      "Complex Number: (2+3j)\n",
      "Type of Complex Number: <class 'complex'>\n"
     ]
    }
   ],
   "source": [
    "\n",
    "# Example demonstrating numeric data types in Python\n",
    "integer_num = 10\n",
    "float_num = 3.14\n",
    "complex_num = 2 + 3j\n",
    "\n",
    "print(\"Integer Number:\", integer_num)\n",
    "print(\"Type of Integer Number:\", type(integer_num))\n",
    "\n",
    "print(\"Floating-Point Number:\", float_num)\n",
    "print(\"Type of Floating-Point Number:\", type(float_num))\n",
    "\n",
    "print(\"Complex Number:\", complex_num)\n",
    "print(\"Type of Complex Number:\", type(complex_num))"
   ]
  },
  {
   "cell_type": "markdown",
   "id": "05a66320-4e05-4af0-a89a-45d6623716d8",
   "metadata": {
    "tags": []
   },
   "source": [
    "#### Explanation:\n",
    "\n",
    "In the provided Python code, we declare variables representing different numeric data types:\n",
    "\n",
    "- `integer_num` holds an integer value (`10`).\n",
    "- `float_num` holds a floating-point value (`3.14`).\n",
    "- `complex_num` holds a complex number value (`2 + 3j`).\n",
    "\n",
    "We then print the values of these variables along with their respective data types using the `type()` function.\n",
    "\n",
    "This demonstrates how numeric data types in Python can represent various numerical values, including integers, floating-point numbers, and complex numbers.\n"
   ]
  },
  {
   "cell_type": "markdown",
   "id": "7d0bc2a5-5dad-4dd3-b511-e66ef59e281f",
   "metadata": {},
   "source": [
    "### Understanding Boolean Data Type in Python\n",
    "\n",
    "Boolean data type in Python is used to represent logical values. There are two boolean values in Python: `True` and `False`. They are often used for logical operations and conditions.\n",
    "\n",
    "#### Python Code:\n",
    "\n",
    "\n"
   ]
  },
  {
   "cell_type": "code",
   "execution_count": 14,
   "id": "65b620b0-1ae0-42c0-9c70-9c2f3fd87c8b",
   "metadata": {
    "tags": []
   },
   "outputs": [
    {
     "name": "stdout",
     "output_type": "stream",
     "text": [
      "is_valid: True\n",
      "Type of is_valid: <class 'bool'>\n",
      "is_greater_than_10: False\n",
      "Type of is_greater_than_10: <class 'bool'>\n"
     ]
    }
   ],
   "source": [
    "\n",
    "# Example demonstrating boolean data type in Python\n",
    "is_valid = True\n",
    "is_greater_than_10 = False\n",
    "\n",
    "print(\"is_valid:\", is_valid)\n",
    "print(\"Type of is_valid:\", type(is_valid))\n",
    "\n",
    "print(\"is_greater_than_10:\", is_greater_than_10)\n",
    "print(\"Type of is_greater_than_10:\", type(is_greater_than_10))"
   ]
  },
  {
   "cell_type": "markdown",
   "id": "4a5a4d0e-47de-4151-81c3-66da290b1f90",
   "metadata": {},
   "source": [
    "#### Explanation:\n",
    "\n",
    "In the provided Python code, we declare variables representing boolean values:\n",
    "\n",
    "- `is_valid` is assigned the boolean value `True`.\n",
    "- `is_greater_than_10` is assigned the boolean value `False`.\n",
    "\n",
    "We then print the values of these variables along with their respective data types using the `type()` function.\n",
    "\n",
    "Boolean values in Python are stored internally as integers: `True` is represented as `1` and `False` as `0`. This allows boolean values to be used in arithmetic operations, where `True` behaves like `1` and `False` behaves like `0`.\n",
    "\n",
    "This demonstrates how boolean data type in Python represents logical values and is stored internally as `1` for `True` and `0` for `False`.\n"
   ]
  },
  {
   "cell_type": "code",
   "execution_count": null,
   "id": "af99ae6b-5c02-4378-a4b2-7bf4aaa542bd",
   "metadata": {},
   "outputs": [],
   "source": []
  },
  {
   "cell_type": "markdown",
   "id": "68372739-a12b-4751-b468-20e14a8a3410",
   "metadata": {},
   "source": [
    "### Understanding String Data Type in Python\n",
    "\n",
    "String data type in Python is used to represent textual data. Strings are sequences of characters, and they can be enclosed in single quotes (''), double quotes (\" \"), or triple quotes (''' ''' or \"\"\" \"\"\"). Strings can contain letters, numbers, symbols, and spaces.\n",
    "\n",
    "#### ASCII and Unicode:\n",
    "\n",
    "ASCII (American Standard Code for Information Interchange) is a character encoding standard that represents characters using 7-bit binary numbers. It can represent a total of 128 characters, including uppercase and lowercase English letters, digits, punctuation symbols, and control characters.\n",
    "\n",
    "Unicode is a character encoding standard that aims to represent every character in every language in a consistent manner. It uses variable-length encoding and can represent over a million characters. Unicode supports characters from various scripts, including Latin, Greek, Cyrillic, Chinese, Japanese, Korean, and many others.\n",
    "\n",
    "#### Python Code:\n",
    "\n",
    "\n"
   ]
  },
  {
   "cell_type": "code",
   "execution_count": 15,
   "id": "48dc42ba-8e1b-40c3-9043-a78e8f6f1e20",
   "metadata": {
    "tags": []
   },
   "outputs": [
    {
     "name": "stdout",
     "output_type": "stream",
     "text": [
      "Single-Quoted String: Hello, World!\n",
      "Type of Single-Quoted String: <class 'str'>\n",
      "Double-Quoted String: Python Programming\n",
      "Type of Double-Quoted String: <class 'str'>\n",
      "Triple-Quoted String: This is a multi-line\n",
      "string in Python\n",
      "Type of Triple-Quoted String: <class 'str'>\n",
      "Unicode String: 你好，世界！\n",
      "Type of Unicode String: <class 'str'>\n"
     ]
    }
   ],
   "source": [
    "\n",
    "# Example demonstrating string data type in Python\n",
    "single_quoted_str = 'Hello, World!'\n",
    "double_quoted_str = \"Python Programming\"\n",
    "triple_quoted_str = '''This is a multi-line\n",
    "string in Python'''\n",
    "unicode_str = '你好，世界！'\n",
    "\n",
    "print(\"Single-Quoted String:\", single_quoted_str)\n",
    "print(\"Type of Single-Quoted String:\", type(single_quoted_str))\n",
    "\n",
    "print(\"Double-Quoted String:\", double_quoted_str)\n",
    "print(\"Type of Double-Quoted String:\", type(double_quoted_str))\n",
    "\n",
    "print(\"Triple-Quoted String:\", triple_quoted_str)\n",
    "print(\"Type of Triple-Quoted String:\", type(triple_quoted_str))\n",
    "\n",
    "print(\"Unicode String:\", unicode_str)\n",
    "print(\"Type of Unicode String:\", type(unicode_str))"
   ]
  },
  {
   "cell_type": "markdown",
   "id": "669c51a1-d3bd-41b3-ad40-a963537972fd",
   "metadata": {},
   "source": [
    "#### Explanation:\n",
    "\n",
    "In the provided Python code, we define strings using different quotation styles:\n",
    "\n",
    "- `single_quoted_str` is enclosed in single quotes ('Hello, World!').\n",
    "- `double_quoted_str` is enclosed in double quotes (\"Python Programming\").\n",
    "- `triple_quoted_str` is enclosed in triple quotes ('''This is a multi-line string in Python''').\n",
    "- `unicode_str` contains Unicode characters ('你好，世界！').\n",
    "\n",
    "We print the values of these strings along with their respective data types using the `type()` function.\n",
    "\n",
    "The use of single, double, or triple quotes allows flexibility in defining strings, especially when dealing with special characters, multiline strings, or strings containing quotes.\n",
    "\n",
    "This demonstrates how string data type in Python represents textual data and the different ways to define strings using single, double, or triple quotes.\n"
   ]
  },
  {
   "cell_type": "code",
   "execution_count": null,
   "id": "10424a22-0e5c-4a66-bd88-5623a0c6bec5",
   "metadata": {},
   "outputs": [],
   "source": []
  },
  {
   "cell_type": "markdown",
   "id": "d091cab1-ea3e-4d7e-ab1b-f7fd9353a18b",
   "metadata": {},
   "source": [
    "### Accessing Single Character in a String and Understanding Indexing\n",
    "\n",
    "In Python, you can access a single character in a string by using indexing. Each character in a string has a corresponding index, starting from `0` for the first character. You can use positive indexing to access characters from the beginning of the string and negative indexing to access characters from the end of the string.\n",
    "\n",
    "#### Python Code:\n",
    "\n",
    "\n"
   ]
  },
  {
   "cell_type": "code",
   "execution_count": 16,
   "id": "a9d00062-d076-47b4-bc84-14d89c15b251",
   "metadata": {
    "tags": []
   },
   "outputs": [
    {
     "name": "stdout",
     "output_type": "stream",
     "text": [
      "First Character: P\n",
      "Second Character: y\n",
      "Last Character: n\n"
     ]
    }
   ],
   "source": [
    "\n",
    "# Example demonstrating accessing single character in a string and indexing\n",
    "word = \"Python\"\n",
    "\n",
    "# Accessing single character using positive indexing\n",
    "first_char = word[0]\n",
    "second_char = word[1]\n",
    "last_char = word[-1]\n",
    "\n",
    "print(\"First Character:\", first_char)\n",
    "print(\"Second Character:\", second_char)\n",
    "print(\"Last Character:\", last_char)"
   ]
  },
  {
   "cell_type": "markdown",
   "id": "1417a0e1-9ccf-46ee-92be-5dc8fa77c4a0",
   "metadata": {},
   "source": [
    "#### Explanation:\n",
    "\n",
    "In the provided Python code, we have a string `word` containing the word \"Python\", which has six characters.\n",
    "\n",
    "- To access the first character, we use positive indexing (`word[0]`), which returns `'P'`.\n",
    "- To access the second character, we use positive indexing (`word[1]`), which returns `'y'`.\n",
    "- To access the last character, we use negative indexing (`word[-1]`), which returns `'n'`.\n",
    "\n",
    "Indexing in Python starts from `0`, so the first character is at index `0`, the second character is at index `1`, and so on. Negative indexing starts from `-1`, where `-1` represents the last character, `-2` represents the second last character, and so on.\n",
    "\n",
    "This demonstrates how to access a single character in a string using indexing and explains the concept of positive and negative indexing in Python.\n"
   ]
  },
  {
   "cell_type": "code",
   "execution_count": null,
   "id": "06e2189c-4287-4d0d-9762-abc2aaac296f",
   "metadata": {},
   "outputs": [],
   "source": []
  },
  {
   "cell_type": "code",
   "execution_count": null,
   "id": "bccb3701-5125-493e-a68f-78dae945165c",
   "metadata": {},
   "outputs": [],
   "source": []
  },
  {
   "cell_type": "markdown",
   "id": "53e2b1c6-6f86-4efd-ab36-5a0dab078e5e",
   "metadata": {
    "tags": []
   },
   "source": [
    "### Understanding Indexing in Strings in Python\n",
    "\n",
    "In Python, indexing allows you to access individual characters within a string. Each character in a string has a corresponding index, which represents its position in the string. Python uses zero-based indexing, where the first character of the string is at index `0`, the second character is at index `1`, and so on.\n",
    "\n",
    "#### Positive Indexing:\n",
    "\n",
    "Positive indexing refers to accessing characters from the beginning of the string using positive integers as indices. To access a character at a specific position, you specify its index within square brackets `[ ]`.\n",
    "\n",
    "For example, in the string `\"Python\"`:\n",
    "- The character `'P'` is at index `0`.\n",
    "- The character `'y'` is at index `1`.\n",
    "- The character `'t'` is at index `2`.\n",
    "- And so on.\n",
    "\n",
    "#### Negative Indexing:\n",
    "\n",
    "Negative indexing refers to accessing characters from the end of the string using negative integers as indices. The last character of the string has an index of `-1`, the second last character has an index of `-2`, and so on.\n",
    "\n",
    "For example, in the string `\"Python\"`:\n",
    "- The character `'n'` is at index `-1`.\n",
    "- The character `'o'` is at index `-2`.\n",
    "- The character `'h'` is at index `-3`.\n",
    "- And so on.\n",
    "\n"
   ]
  },
  {
   "cell_type": "code",
   "execution_count": 18,
   "id": "f9072e8f-e148-4b7c-bea6-66d7f09f2549",
   "metadata": {
    "tags": []
   },
   "outputs": [
    {
     "name": "stdout",
     "output_type": "stream",
     "text": [
      "First Character (Positive Indexing): P\n",
      "Second Character (Positive Indexing): y\n",
      "Last Character (Negative Indexing): n\n"
     ]
    }
   ],
   "source": [
    "#### Python Code:\n",
    "\n",
    "# Example demonstrating positive and negative indexing in strings\n",
    "word = \"Python\"\n",
    "\n",
    "# Positive indexing\n",
    "first_char = word[0]\n",
    "second_char = word[1]\n",
    "last_char = word[-1]\n",
    "\n",
    "print(\"First Character (Positive Indexing):\", first_char)\n",
    "print(\"Second Character (Positive Indexing):\", second_char)\n",
    "print(\"Last Character (Negative Indexing):\", last_char)\n"
   ]
  },
  {
   "cell_type": "code",
   "execution_count": null,
   "id": "84b54505-d5d1-4f33-b212-738d2b470e63",
   "metadata": {},
   "outputs": [],
   "source": []
  },
  {
   "cell_type": "markdown",
   "id": "6d4a7697-a480-4ed7-810e-2c4681d4fef8",
   "metadata": {
    "tags": []
   },
   "source": [
    "#### Explanation:\n",
    "\n",
    "In the provided Python code, we define a string `word` containing the word \"Python\". We then demonstrate positive and negative indexing to access characters within the string.\n",
    "\n",
    "- Positive indexing (`word[0]`, `word[1]`) accesses characters from the beginning of the string.\n",
    "- Negative indexing (`word[-1]`) accesses characters from the end of the string.\n",
    "\n",
    "Understanding indexing is crucial as it allows you to manipulate and extract substrings from strings effectively. Positive indexing starts from `0`, while negative indexing starts from `-1`, where `-1` represents the last character.\n",
    "\n",
    "This concept is fundamental in Python and is extensively used in various string operations and data manipulation tasks.\n"
   ]
  },
  {
   "cell_type": "code",
   "execution_count": null,
   "id": "bb978296-d3bd-4d68-8936-7c07b85f3646",
   "metadata": {},
   "outputs": [],
   "source": []
  },
  {
   "cell_type": "markdown",
   "id": "2cf23269-a41d-41a7-aed1-1a584c96161b",
   "metadata": {},
   "source": [
    "### Understanding Typecasting in Python\n",
    "\n",
    "Typecasting, also known as type conversion, is the process of converting one data type into another. Python allows both explicit and implicit typecasting.\n",
    "\n",
    "#### Explicit Typecasting:\n",
    "\n",
    "Explicit typecasting, also known as forced typecasting, involves converting a variable from one data type to another explicitly using built-in functions or constructors. This type of typecasting requires the programmer to specify the desired data type.\n",
    "\n",
    "#### Implicit Typecasting:\n",
    "\n",
    "Implicit typecasting, also known as automatic typecasting, occurs automatically when Python converts one data type to another without the need for explicit instructions from the programmer. Python performs implicit typecasting based on the context of the operation being performed.\n",
    "\n",
    "#### Python Code:\n",
    "\n",
    "```python\n",
    "\n"
   ]
  },
  {
   "cell_type": "code",
   "execution_count": 20,
   "id": "179e858f-a56a-4eef-9392-4d4e9a35c5ed",
   "metadata": {
    "tags": []
   },
   "outputs": [
    {
     "name": "stdout",
     "output_type": "stream",
     "text": [
      "Explicit Typecasting (int to float): 10.0\n",
      "Implicit Typecasting (int to string): Number: 10\n"
     ]
    }
   ],
   "source": [
    "# Example demonstrating explicit and implicit typecasting in Python\n",
    "# Explicit typecasting (int to float)\n",
    "num_int = 10\n",
    "num_float = float(num_int)\n",
    "\n",
    "# Implicit typecasting (int to string)\n",
    "num_int = 10\n",
    "num_str = \"Number: \" + str(num_int)\n",
    "\n",
    "print(\"Explicit Typecasting (int to float):\", num_float)\n",
    "print(\"Implicit Typecasting (int to string):\", num_str)"
   ]
  },
  {
   "cell_type": "markdown",
   "id": "155a0de8-2d55-4556-82b9-871c566c20e9",
   "metadata": {
    "tags": []
   },
   "source": [
    "#### Explanation:\n",
    "\n",
    "In the provided Python code, we demonstrate both explicit and implicit typecasting:\n",
    "\n",
    "- Explicit Typecasting: We convert an integer (`num_int`) to a float using the `float()` constructor. This converts the integer `10` to a floating-point number `10.0`.\n",
    "\n",
    "- Implicit Typecasting: We concatenate the integer `10` with a string `\"Number: \"` using the `+` operator. Since the integer `10` is being combined with a string, Python automatically converts it to a string, resulting in the string `\"Number: 10\"`.\n",
    "\n",
    "Understanding typecasting is essential for manipulating data and performing operations involving different data types. Explicit typecasting provides control over conversions, while implicit typecasting simplifies operations by automatically converting data types as needed.\n"
   ]
  },
  {
   "cell_type": "code",
   "execution_count": null,
   "id": "3bcd4e1d-6a1d-4d78-8937-6bf098443616",
   "metadata": {},
   "outputs": [],
   "source": []
  },
  {
   "cell_type": "code",
   "execution_count": 27,
   "id": "a2a9c482-a6f9-40e3-b4b7-819d2910b695",
   "metadata": {
    "tags": []
   },
   "outputs": [
    {
     "name": "stdout",
     "output_type": "stream",
     "text": [
      "Result of implicit typecasting (int to float): 10.5\n",
      "Result of implicit typecasting (int to string): Number: 10\n",
      "Result of implicit typecasting (boolean to integer): 6\n",
      "Result of implicit typecasting (integer to boolean): True\n"
     ]
    }
   ],
   "source": [
    "# Implicit Typecasting in Python\n",
    "\n",
    "# Example 1: Integer to Float\n",
    "num_int = 10\n",
    "num_float = num_int + 0.5  # Integer implicitly converted to float\n",
    "print(\"Result of implicit typecasting (int to float):\", num_float)\n",
    "\n",
    "\n",
    "# Example 3: Boolean to Integer\n",
    "bool_val = True\n",
    "num_int = bool_val + 5  # Boolean implicitly converted to integer (True becomes 1)\n",
    "print(\"Result of implicit typecasting (boolean to integer):\", num_int)\n",
    "\n",
    "\n",
    "# Example 5: Integer to Boolean\n",
    "num_int = 0\n",
    "bool_val = num_int or True  # Integer implicitly converted to boolean (0 becomes False)\n",
    "print(\"Result of implicit typecasting (integer to boolean):\", bool_val)\n"
   ]
  },
  {
   "cell_type": "code",
   "execution_count": 28,
   "id": "82c87eb9-62cb-4354-a4fa-5f8295fef56c",
   "metadata": {
    "tags": []
   },
   "outputs": [
    {
     "name": "stdout",
     "output_type": "stream",
     "text": [
      "Result of explicit typecasting (string to integer): 10\n",
      "Result of explicit typecasting (float to string): 3.14\n",
      "Result of explicit typecasting (integer to float): 10.0\n",
      "Result of explicit typecasting (string to boolean): True\n",
      "Result of explicit typecasting (boolean to integer): 1\n",
      "Result of implicit typecasting (int to string): Number: 10\n"
     ]
    }
   ],
   "source": [
    "\n",
    "# Explicit Typecasting in Python\n",
    "\n",
    "# Example 1: String to Integer\n",
    "num_str = \"10\"\n",
    "num_int = int(num_str)  # String explicitly converted to integer\n",
    "print(\"Result of explicit typecasting (string to integer):\", num_int)\n",
    "\n",
    "# Example 2: Float to String\n",
    "num_float = 3.14\n",
    "num_str = str(num_float)  # Float explicitly converted to string\n",
    "print(\"Result of explicit typecasting (float to string):\", num_str)\n",
    "\n",
    "# Example 3: Integer to Float\n",
    "num_int = 10\n",
    "num_float = float(num_int)  # Integer explicitly converted to float\n",
    "print(\"Result of explicit typecasting (integer to float):\", num_float)\n",
    "\n",
    "# Example 4: String to Boolean\n",
    "bool_str = \"True\"\n",
    "bool_val = bool(bool_str)  # String explicitly converted to boolean\n",
    "print(\"Result of explicit typecasting (string to boolean):\", bool_val)\n",
    "\n",
    "# Example 5: Boolean to Integer\n",
    "bool_val = True\n",
    "num_int = int(bool_val)  # Boolean explicitly converted to integer\n",
    "print(\"Result of explicit typecasting (boolean to integer):\", num_int)\n",
    "\n",
    "# Example 2: Integer to String (Concatenation)\n",
    "num_int = 10\n",
    "num_str = \"Number: \" + str(num_int)  # Integer implicitly converted to string\n",
    "print(\"Result of implicit typecasting (int to string):\", num_str)\n"
   ]
  },
  {
   "cell_type": "code",
   "execution_count": null,
   "id": "bcc28f17-9af9-4fd2-bdda-aca88b46389f",
   "metadata": {},
   "outputs": [],
   "source": []
  }
 ],
 "metadata": {
  "kernelspec": {
   "display_name": "Python 3 (ipykernel)",
   "language": "python",
   "name": "python3"
  },
  "language_info": {
   "codemirror_mode": {
    "name": "ipython",
    "version": 3
   },
   "file_extension": ".py",
   "mimetype": "text/x-python",
   "name": "python",
   "nbconvert_exporter": "python",
   "pygments_lexer": "ipython3",
   "version": "3.11.5"
  }
 },
 "nbformat": 4,
 "nbformat_minor": 5
}
