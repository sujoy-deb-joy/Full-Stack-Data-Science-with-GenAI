{
 "cells": [
  {
   "cell_type": "markdown",
   "id": "0c53a44f-2ad5-4431-b7c1-5eb45f802b79",
   "metadata": {},
   "source": [
    "# Installation of Anaconda to Run Python.\n",
    "\n",
    "If anyone is facing issues in installing Anaconda on their machine, please follow the below steps.\n",
    "\n",
    "  \n",
    "\n",
    "[How to Install Anaconda to Run Python for Data Science | by Mayank Aggarwal | Feb, 2024 | Medium](https://medium.com/@thecodingcookie/how-to-install-anaconda-to-run-python-for-data-science-7a6a0b0928d8)\n",
    "\n",
    "  \n",
    "\n",
    "**Note : Neuro Lab is currently under enhancement so we will be using either Anaconda or Google Colab.**"
   ]
  },
  {
   "cell_type": "code",
   "execution_count": 1,
   "id": "8d533fac-9376-48c2-9cbf-06fe627f0555",
   "metadata": {
    "tags": []
   },
   "outputs": [
    {
     "name": "stdout",
     "output_type": "stream",
     "text": [
      "Hello World\n"
     ]
    }
   ],
   "source": [
    "print(\"Hello World\")"
   ]
  },
  {
   "cell_type": "markdown",
   "id": "bafccf66-3040-40b1-8fc7-a40bc162b782",
   "metadata": {},
   "source": [
    "### Overview of Python and Version History\n",
    "\n",
    "Python is a high-level, interpreted programming language known for its simplicity and readability. It was created by Guido van Rossum and first released in 1991. Since then, Python has evolved through various versions, with each version introducing new features, improvements, and bug fixes.\n",
    "\n",
    "#### Version History:\n",
    "\n",
    "- **Python 1.0 (1994):** The initial release of Python included core features like functions, modules, exception handling, and data types such as lists and dictionaries.\n",
    "  \n",
    "- **Python 2.0 (2000):** Introduced list comprehensions, garbage collection, and support for Unicode. Python 2.x series continued with updates until Python 2.7, which reached end-of-life in 2020.\n",
    "\n",
    "- **Python 3.0 (2008):** A major overhaul of the language to address various inconsistencies and introduce new features. Notably, it replaced the print statement with the print() function, introduced Unicode as the default string type, and made several syntax changes for better consistency and clarity.\n",
    "\n",
    "- **Python 3.x Series:** Since Python 3.0, the language has continued to evolve with regular releases, introducing features like type annotations, async/await syntax for asynchronous programming, f-strings for string formatting, and more.\n",
    "\n",
    "- **Latest Version:** As of February 2024, the latest stable version of Python is Python 3.10.x, which includes new syntax features, performance improvements, and library updates.\n",
    "\n",
    "#### Checking Python Version:\n",
    "\n",
    "You can check the installed Python version using the following code:\n",
    "\n",
    "\n"
   ]
  },
  {
   "cell_type": "code",
   "execution_count": 2,
   "id": "3c6415ac-9821-485d-b7c3-85b7ae70757a",
   "metadata": {
    "tags": []
   },
   "outputs": [
    {
     "name": "stdout",
     "output_type": "stream",
     "text": [
      "Python Version: 3.11.5 (main, Sep 11 2023, 08:31:25) [Clang 14.0.6 ]\n"
     ]
    }
   ],
   "source": [
    "import sys\n",
    "\n",
    "print(\"Python Version:\", sys.version)"
   ]
  },
  {
   "cell_type": "code",
   "execution_count": 3,
   "id": "f3ffbf3e-bf34-4c2d-8120-7e24a2a89f19",
   "metadata": {
    "tags": []
   },
   "outputs": [
    {
     "ename": "SyntaxError",
     "evalue": "Missing parentheses in call to 'print'. Did you mean print(...)? (2379903169.py, line 2)",
     "output_type": "error",
     "traceback": [
      "\u001b[0;36m  Cell \u001b[0;32mIn[3], line 2\u001b[0;36m\u001b[0m\n\u001b[0;31m    print \"Hello, Python 2!\"  # Python 2 uses print statement without parentheses\u001b[0m\n\u001b[0m    ^\u001b[0m\n\u001b[0;31mSyntaxError\u001b[0m\u001b[0;31m:\u001b[0m Missing parentheses in call to 'print'. Did you mean print(...)?\n"
     ]
    }
   ],
   "source": [
    "# Python 2 code\n",
    "print \"Hello, Python 2!\"  # Python 2 uses print statement without parentheses\n",
    "\n",
    "# Python 3 code\n",
    "print(\"Hello, Python 3!\")  # Python 3 uses print() function with parentheses\n",
    "\n",
    "# Division behavior in Python 2\n",
    "result_py2 = 5 / 2  # Integer division in Python 2 yields integer result (truncating decimal part)\n",
    "print(\"Division in Python 2:\", result_py2)  # Output: Division in Python 2: 2\n",
    "\n",
    "# Division behavior in Python 3\n",
    "result_py3 = 5 / 2  # True division in Python 3 yields float result\n",
    "print(\"Division in Python 3:\", result_py3)  # Output: Division in Python 3: 2.5\n",
    "\n",
    "# To achieve integer division in Python 3, use the // operator\n",
    "integer_division_py3 = 5 // 2\n",
    "print(\"Integer Division in Python 3:\", integer_division_py3)  # Output: Integer Division in Python 3: 2\n"
   ]
  },
  {
   "cell_type": "markdown",
   "id": "dc3fac86-e4c2-4959-8159-062aecae3d8c",
   "metadata": {},
   "source": [
    "# Hence Python 3 is the absolute choice and something we are going to go forward with."
   ]
  },
  {
   "cell_type": "markdown",
   "id": "2295a519-1152-4e04-afb4-0842a3935443",
   "metadata": {},
   "source": [
    "#"
   ]
  },
  {
   "cell_type": "markdown",
   "id": "596ebc75-bb1b-4c4b-b4c1-4ebc4e16fb92",
   "metadata": {},
   "source": [
    "#"
   ]
  },
  {
   "cell_type": "markdown",
   "id": "2da7794c-09b7-445f-bfd6-a56a9bf1b613",
   "metadata": {},
   "source": [
    "#"
   ]
  },
  {
   "cell_type": "markdown",
   "id": "b1d3672e-f28d-4214-95ff-980160de1d77",
   "metadata": {},
   "source": [
    "### Predefined and Built-in Functions\n",
    "\n",
    "#### Predefined Functions:\n",
    "\n",
    "Predefined functions, also known as built-in functions, are functions that are already defined in the Python language. These functions are readily available for use without the need to define them.\n",
    "\n",
    "Example of Predefined Functions:\n",
    "```python\n",
    "# Example of using predefined functions\n",
    "print(\"Hello, World!\")  # print() is a predefined function to display output\n",
    "length = len(\"Python\")  # len() is a predefined function to get the length of a string\n"
   ]
  },
  {
   "cell_type": "markdown",
   "id": "618bf1e6-a4f3-42f9-944e-f332a47eb172",
   "metadata": {},
   "source": [
    "# User-defined Functions:\n",
    "User-defined functions are functions that are defined by the user to perform a specific task. These functions allow users to encapsulate a block of code and reuse it throughout the program."
   ]
  },
  {
   "cell_type": "code",
   "execution_count": 4,
   "id": "0c1cdbb5-2186-4504-9f30-cf75b35c155e",
   "metadata": {
    "tags": []
   },
   "outputs": [
    {
     "name": "stdout",
     "output_type": "stream",
     "text": [
      "Hello, Alice ! Welcome to Python programming.\n"
     ]
    }
   ],
   "source": [
    "# Example of defining and using a user-defined function\n",
    "def greet(name):\n",
    "    \"\"\"\n",
    "    Function to greet the user with a personalized message.\n",
    "    \n",
    "    Args:\n",
    "    name (str): The name of the user.\n",
    "    \"\"\"\n",
    "    print(\"Hello,\", name, \"! Welcome to Python programming.\")\n",
    "\n",
    "# Calling the user-defined function\n",
    "greet(\"Alice\")  # Output: Hello, Alice! Welcome to Python programming.\n"
   ]
  },
  {
   "cell_type": "markdown",
   "id": "5b2fe85c-ffc8-4fee-99fd-bc2aa3bb8ae7",
   "metadata": {},
   "source": [
    "### Functions with Return Value vs. Functions without Return Value\n",
    "\n",
    "#### Functions with Return Value:\n",
    "\n",
    "Functions that return a value are designed to perform a specific task and then provide a result back to the caller. This result can be used by the caller for further computation or processing.\n",
    "\n",
    "Example of Function with Return Value:\n"
   ]
  },
  {
   "cell_type": "code",
   "execution_count": 5,
   "id": "0e6daef2-b438-4a07-8fbd-0583259c26ed",
   "metadata": {
    "tags": []
   },
   "outputs": [
    {
     "name": "stdout",
     "output_type": "stream",
     "text": [
      "Sum: 8\n"
     ]
    }
   ],
   "source": [
    "# Example of a function with return value\n",
    "def add_numbers(x, y):\n",
    "    \"\"\"\n",
    "    Function to add two numbers and return the result.\n",
    "    \n",
    "    Args:\n",
    "    x (int): First number.\n",
    "    y (int): Second number.\n",
    "    \n",
    "    Returns:\n",
    "    int: Sum of the two numbers.\n",
    "    \"\"\"\n",
    "    result = x + y\n",
    "    return result\n",
    "\n",
    "# Calling the function and storing the result\n",
    "sum_result = add_numbers(3, 5)\n",
    "print(\"Sum:\", sum_result)  # Output: Sum: 8\n"
   ]
  },
  {
   "cell_type": "markdown",
   "id": "f5213ab0-2db9-420e-804a-ece70176274a",
   "metadata": {},
   "source": [
    "#### Functions without Return Value:\n",
    "\n",
    "Functions that do not return a value are designed to perform a specific task without providing any result back to the caller. These functions typically perform actions like printing output, modifying data, or updating variables.\n",
    "\n",
    "Example of Function without Return Value:\n"
   ]
  },
  {
   "cell_type": "code",
   "execution_count": 6,
   "id": "b43bbdad-0482-47ac-9793-637966746521",
   "metadata": {
    "tags": []
   },
   "outputs": [
    {
     "name": "stdout",
     "output_type": "stream",
     "text": [
      "Hello, Bob ! Welcome to Python programming.\n"
     ]
    }
   ],
   "source": [
    "# Example of a function without return value\n",
    "def greet(name):\n",
    "    \"\"\"\n",
    "    Function to greet the user without returning any value.\n",
    "    \n",
    "    Args:\n",
    "    name (str): The name of the user.\n",
    "    \"\"\"\n",
    "    print(\"Hello,\", name, \"! Welcome to Python programming.\")\n",
    "\n",
    "# Calling the function without capturing the return value\n",
    "greet(\"Bob\")  # Output: Hello, Bob! Welcome to Python programming.\n"
   ]
  },
  {
   "cell_type": "markdown",
   "id": "d0ff94ff-906b-4008-b949-9a1edf782075",
   "metadata": {},
   "source": [
    "### Built-in Functions in Python\n",
    "\n",
    "Built-in functions are functions that are readily available in Python without the need to import any external libraries. These functions cover a wide range of tasks and are designed to perform common operations efficiently.\n",
    "\n",
    "#### The `print()` Function:\n",
    "\n",
    "The `print()` function is a built-in function in Python used to display output on the console. It is one of the most commonly used functions for debugging and displaying information to users.\n",
    "\n",
    "**How to Use `print()` Function:**\n"
   ]
  },
  {
   "cell_type": "code",
   "execution_count": 9,
   "id": "9a2f56c9-60ed-4b62-a0a0-72f3a165122e",
   "metadata": {
    "tags": []
   },
   "outputs": [
    {
     "name": "stdout",
     "output_type": "stream",
     "text": [
      "Hello, World!\n",
      "Hello, World Again!\n"
     ]
    }
   ],
   "source": [
    "# Example of using the print() function\n",
    "print(\"Hello, World!\")  # Output: Hello, World!\n",
    "print(\"Hello, World Again!\")"
   ]
  },
  {
   "cell_type": "markdown",
   "id": "e8fb45e1-95bb-4451-83da-2eee8b4c4926",
   "metadata": {
    "tags": []
   },
   "source": [
    "**New Line in `print()` Function:**\n"
   ]
  },
  {
   "cell_type": "code",
   "execution_count": 10,
   "id": "7db072f9-8034-4258-a3d5-8040e2dab824",
   "metadata": {
    "tags": []
   },
   "outputs": [
    {
     "name": "stdout",
     "output_type": "stream",
     "text": [
      "Line 1\n",
      "Line 2\n"
     ]
    }
   ],
   "source": [
    "# Printing multiple lines using the print() function\n",
    "print(\"Line 1\")\n",
    "print(\"Line 2\")\n"
   ]
  },
  {
   "cell_type": "markdown",
   "id": "31d858e9-c58c-4f80-bae3-771bebc9ac7b",
   "metadata": {},
   "source": [
    "**Other Parameters in `print()` Function:**\n"
   ]
  },
  {
   "cell_type": "code",
   "execution_count": 11,
   "id": "cd19b144-4382-42d3-9f3b-9647d2083f39",
   "metadata": {
    "tags": []
   },
   "outputs": [
    {
     "name": "stdout",
     "output_type": "stream",
     "text": [
      "Hello, World!!!!\n"
     ]
    }
   ],
   "source": [
    "# Using other parameters in the print() function\n",
    "print(\"Hello\", \"World!\", sep=\", \", end=\"!!!\\n\")  # Output: Hello, World!!!\n"
   ]
  },
  {
   "cell_type": "markdown",
   "id": "9f977f55-b792-454e-b3bf-5d28bbef4e32",
   "metadata": {},
   "source": [
    "#### List of Commonly Used Built-in Functions:\n",
    "\n",
    "Here are some commonly used built-in functions in Python:\n",
    "\n",
    "- `abs()`: Returns the absolute value of a number.\n",
    "- `len()`: Returns the length of an object (e.g., string, list, tuple).\n",
    "- `max()`: Returns the largest item in an iterable or the largest of two or more arguments.\n",
    "- `min()`: Returns the smallest item in an iterable or the smallest of two or more arguments.\n",
    "- `range()`: Generates a sequence of numbers within a specified range.\n",
    "- `sum()`: Returns the sum of all elements in an iterable.\n",
    "\n",
    "**How to Check Built-in Functions:**\n",
    "\n",
    "\n",
    "https://docs.python.org/3/library/functions.html"
   ]
  },
  {
   "cell_type": "markdown",
   "id": "e469753b-7898-47b0-b368-9d1f13811f21",
   "metadata": {},
   "source": [
    "#### Using Different Values in `sep` and `end` Parameters:\n",
    "\n",
    "The `sep` and `end` parameters in the `print()` function allow us to customize the formatting of the output.\n",
    "\n",
    "**Using Special Characters in `sep` and `end`:**\n"
   ]
  },
  {
   "cell_type": "code",
   "execution_count": 16,
   "id": "c60093e0-de30-4ed3-a005-447a47a55f16",
   "metadata": {
    "tags": []
   },
   "outputs": [
    {
     "name": "stdout",
     "output_type": "stream",
     "text": [
      "Python\tProgramming\n",
      "\n",
      "Hello $$$ World!!!\n"
     ]
    }
   ],
   "source": [
    "# Using special characters in sep and end parameters\n",
    "print(\"Python\", \"Programming\", sep=\"\\t\", end=\"\\n\\n\")  # Output: Python    Programming\n",
    "print(\"Hello\", \"World\", sep=\" $$$ \", end=\"!!!\\n\")     # Output: Hello $$$ World!!!\n"
   ]
  },
  {
   "cell_type": "markdown",
   "id": "60d311f7-fc4f-4fd9-84b9-63f8dc841bec",
   "metadata": {},
   "source": [
    "Explanation:\n",
    "- In the first example, we use the tab character `\\t` as the separator (`sep`) to create space between the words \"Python\" and \"Programming\". \n",
    "- We use the newline character `\\n\\n` as the end parameter to create an empty line after printing.\n",
    "- In the second example, we use the string `\" $$$ \"` as the separator (`sep`) to separate the words \"Hello\" and \"World\" with dollar signs.\n",
    "- We use the string `\"!!!\"` as the end parameter to add exclamation marks at the end of the output.\n",
    "\n",
    "**Using Escape Sequences in `sep` and `end`:**\n"
   ]
  },
  {
   "cell_type": "code",
   "execution_count": 17,
   "id": "012e909d-26fe-4e41-83b5-10a913b0ecbc",
   "metadata": {
    "tags": []
   },
   "outputs": [
    {
     "name": "stdout",
     "output_type": "stream",
     "text": [
      "Hello\n",
      "World\n",
      "\n",
      "Python\\Programming\t\tLearning\n"
     ]
    }
   ],
   "source": [
    "# Using escape sequences in sep and end parameters\n",
    "print(\"Hello\", \"World\", sep=\"\\n\", end=\"\\n\\n\")  # Output: Hello\n",
    "                                                #         World\n",
    "                                                #\n",
    "print(\"Python\", \"Programming\", sep=\"\\\\\", end=\"\\t\\t\")  # Output: Python\\Programming      <next print statement will continue here>\n",
    "print(\"Learning\")                                     # Output: Learning\n"
   ]
  },
  {
   "cell_type": "code",
   "execution_count": null,
   "id": "d3f26b86-0009-4edc-b5fd-abe94ad9530f",
   "metadata": {},
   "outputs": [],
   "source": []
  },
  {
   "cell_type": "code",
   "execution_count": null,
   "id": "a0cca237-1c3e-4155-98e1-e0d87dba27b6",
   "metadata": {},
   "outputs": [],
   "source": []
  },
  {
   "cell_type": "code",
   "execution_count": null,
   "id": "c12abc03-8151-4a72-98fc-945a8f45c56d",
   "metadata": {},
   "outputs": [],
   "source": []
  },
  {
   "cell_type": "markdown",
   "id": "ceff6934-9648-4a89-9570-e6ba4aadd95e",
   "metadata": {},
   "source": [
    "### The `input()` Function in Python\n",
    "\n",
    "The `input()` function in Python is used to take user input from the keyboard. It reads the input as a string by default.\n",
    "\n",
    "**Taking Input as a String:**\n"
   ]
  },
  {
   "cell_type": "code",
   "execution_count": 18,
   "id": "6d0abec1-ffe5-496f-846a-5939d910cc03",
   "metadata": {
    "tags": []
   },
   "outputs": [
    {
     "name": "stdin",
     "output_type": "stream",
     "text": [
      "Enter your name:  5\n"
     ]
    },
    {
     "name": "stdout",
     "output_type": "stream",
     "text": [
      "Hello, 5 !\n"
     ]
    }
   ],
   "source": [
    "# Taking input as a string\n",
    "name = input(\"Enter your name: \")\n",
    "print(\"Hello,\", name, \"!\")  # Output: Hello, [user_input]!\n"
   ]
  },
  {
   "cell_type": "markdown",
   "id": "1c7d84f9-9bd6-44b9-8da6-67d60da8e834",
   "metadata": {},
   "source": [
    "Explanation:\n",
    "- The `input()` function prompts the user to enter their name, and the input is stored as a string in the variable `name`.\n",
    "- The entered name is then printed with a greeting message using the `print()` function.\n",
    "\n",
    "**Taking Input in Different Forms:**\n"
   ]
  },
  {
   "cell_type": "code",
   "execution_count": 19,
   "id": "7963df23-6c2b-4573-9de7-4af6f86a711d",
   "metadata": {
    "tags": []
   },
   "outputs": [
    {
     "name": "stdin",
     "output_type": "stream",
     "text": [
      "Enter your age:  6\n"
     ]
    },
    {
     "name": "stdout",
     "output_type": "stream",
     "text": [
      "You are 6 years old.\n"
     ]
    }
   ],
   "source": [
    "# Taking input in different forms\n",
    "age = int(input(\"Enter your age: \"))\n",
    "print(\"You are\", age, \"years old.\")  # Output: You are [user_input] years old.\n"
   ]
  },
  {
   "cell_type": "markdown",
   "id": "c1df567a-d896-4902-ae90-333f9c112c77",
   "metadata": {},
   "source": [
    "Explanation:\n",
    "- In this example, the `input()` function is used to prompt the user to enter their age.\n",
    "- The input is then converted to an integer using the `int()` function before storing it in the variable `age`.\n",
    "- Finally, the age is printed with a message using the `print()` function.\n"
   ]
  },
  {
   "cell_type": "markdown",
   "id": "3d5aae96-c511-4ea2-bd76-121fe0313c41",
   "metadata": {},
   "source": [
    "### Types of Errors in Python\n",
    "\n",
    "Errors in Python can broadly be categorized into two types: syntax errors and runtime errors.\n",
    "\n",
    "#### Syntax Errors:\n",
    "\n",
    "Syntax errors occur when the code does not conform to the syntax rules of Python. These errors are detected by the interpreter during the parsing phase before the code is executed.\n",
    "\n",
    "**Examples of Syntax Errors:**\n"
   ]
  },
  {
   "cell_type": "code",
   "execution_count": 21,
   "id": "17dd671d-2b59-4f9f-a997-3dfd69c455e5",
   "metadata": {
    "tags": []
   },
   "outputs": [
    {
     "ename": "SyntaxError",
     "evalue": "incomplete input (1574814695.py, line 2)",
     "output_type": "error",
     "traceback": [
      "\u001b[0;36m  Cell \u001b[0;32mIn[21], line 2\u001b[0;36m\u001b[0m\n\u001b[0;31m    print(\"Hello, World!\"  # Missing closing parenthesis\u001b[0m\n\u001b[0m                                                        ^\u001b[0m\n\u001b[0;31mSyntaxError\u001b[0m\u001b[0;31m:\u001b[0m incomplete input\n"
     ]
    }
   ],
   "source": [
    "# Example of a syntax error\n",
    "print(\"Hello, World!\"  # Missing closing parenthesis\n"
   ]
  },
  {
   "cell_type": "markdown",
   "id": "48998453-e9dc-4ab0-a5b1-ddeea8d91444",
   "metadata": {
    "tags": []
   },
   "source": [
    "Explanation:\n",
    "- In this example, there is a missing closing parenthesis `)` after the string \"Hello, World!\".\n",
    "- This violates the syntax rule of Python, resulting in a syntax error.\n",
    "- Syntax errors prevent the code from being executed and must be fixed before running the program.\n",
    "\n",
    "#### Runtime Errors:\n",
    "\n",
    "Runtime errors, also known as exceptions, occur during the execution of the program when an error condition is encountered. These errors disrupt the normal flow of the program and can be handled using exception handling mechanisms.\n",
    "\n",
    "**Examples of Runtime Errors:**\n"
   ]
  },
  {
   "cell_type": "code",
   "execution_count": 23,
   "id": "c581296a-98c2-4806-b07d-ca7e6bb1fb98",
   "metadata": {
    "tags": []
   },
   "outputs": [
    {
     "ename": "ZeroDivisionError",
     "evalue": "division by zero",
     "output_type": "error",
     "traceback": [
      "\u001b[0;31m---------------------------------------------------------------------------\u001b[0m",
      "\u001b[0;31mZeroDivisionError\u001b[0m                         Traceback (most recent call last)",
      "Cell \u001b[0;32mIn[23], line 2\u001b[0m\n\u001b[1;32m      1\u001b[0m \u001b[38;5;66;03m# Example of a runtime error (ZeroDivisionError)\u001b[39;00m\n\u001b[0;32m----> 2\u001b[0m result \u001b[38;5;241m=\u001b[39m \u001b[38;5;241m10\u001b[39m \u001b[38;5;241m/\u001b[39m \u001b[38;5;241m0\u001b[39m\n",
      "\u001b[0;31mZeroDivisionError\u001b[0m: division by zero"
     ]
    }
   ],
   "source": [
    "# Example of a runtime error (ZeroDivisionError)\n",
    "result = 10 / 0  # Division by zero\n"
   ]
  },
  {
   "cell_type": "markdown",
   "id": "72295a45-3899-4439-bdbd-814608007236",
   "metadata": {},
   "source": [
    "### Identifiers in Python\n",
    "\n",
    "Identifiers in Python are names given to various elements in a program, such as variables, functions, classes, etc. These names are used to uniquely identify these elements within the program.\n",
    "\n",
    "#### Permitted Conditions for Naming Identifiers:\n",
    "\n",
    "Identifiers in Python must adhere to certain rules and conventions for naming. Here are the permitted conditions for naming identifiers:\n",
    "\n",
    "\n",
    "1. **Start with a Letter (a-z, A-Z) or Underscore (_):**\n",
    "   - Identifiers can begin with a letter (both lowercase and uppercase) or an underscore.\n",
    "   - Examples: `variable`, `_variable`, `Function`, `_Function`\n",
    "\n",
    "2. **Followed by Letters (a-z, A-Z), Digits (0-9), or Underscores (_):**\n",
    "   - After the first character, identifiers can contain letters (both lowercase and uppercase), digits, or underscores.\n",
    "   - Examples: `variable1`, `Var_2`, `function_name_3`\n",
    "\n",
    "3. **Cannot Start with a Digit (0-9):**\n",
    "   - Identifiers cannot start with a digit.\n",
    "   - Examples: `1variable` (Invalid), `2nd_function` (Invalid)\n",
    "\n",
    "4. **Cannot Contain Special Characters (e.g., @, $, %, &, etc.):**\n",
    "   - Identifiers cannot contain special characters except for the underscore (_).\n",
    "   - Examples: `var@iable` (Invalid), `my$variable` (Invalid)\n",
    "\n",
    "5. **Case-Sensitive:**\n",
    "   - Python identifiers are case-sensitive, meaning `variable` and `Variable` are considered as two different identifiers.\n",
    "   - Examples: `variable`, `Variable`\n",
    "\n",
    "**Examples of Permitted Identifiers:**\n"
   ]
  },
  {
   "cell_type": "code",
   "execution_count": 24,
   "id": "9403c6b6-bce6-4d5d-bd0b-3e59f50e73a4",
   "metadata": {
    "tags": []
   },
   "outputs": [],
   "source": [
    "# Examples of permitted identifiers\n",
    "variable = 10\n",
    "_variable = 20\n",
    "FunctionName = lambda x: x ** 2\n"
   ]
  },
  {
   "cell_type": "markdown",
   "id": "741df060-7716-4d85-bc85-5deaeaaff6e5",
   "metadata": {},
   "source": [
    "Explanation:\n",
    "- In the above examples, identifiers `variable`, `_variable`, and `FunctionName` adhere to the naming rules and conventions of Python.\n",
    "- They start with letters or underscores, followed by letters, digits, or underscores, and do not contain special characters.\n",
    "- These identifiers can be used to name variables, functions, or other elements in the program.\n",
    "\n",
    "**Examples of Invalid Identifiers:**\n"
   ]
  },
  {
   "cell_type": "code",
   "execution_count": 25,
   "id": "777fdce1-5f2d-4849-ad3e-64811cd3c223",
   "metadata": {
    "tags": []
   },
   "outputs": [
    {
     "ename": "SyntaxError",
     "evalue": "invalid decimal literal (2668841942.py, line 2)",
     "output_type": "error",
     "traceback": [
      "\u001b[0;36m  Cell \u001b[0;32mIn[25], line 2\u001b[0;36m\u001b[0m\n\u001b[0;31m    1variable = 10\u001b[0m\n\u001b[0m    ^\u001b[0m\n\u001b[0;31mSyntaxError\u001b[0m\u001b[0;31m:\u001b[0m invalid decimal literal\n"
     ]
    }
   ],
   "source": [
    "# Examples of invalid identifiers\n",
    "1variable = 10\n",
    "var@iable = 20\n",
    "my$variable = 30\n"
   ]
  },
  {
   "cell_type": "markdown",
   "id": "bbfe3b42-3f54-4989-9eb0-6eca6d054390",
   "metadata": {},
   "source": [
    "Explanation:\n",
    "- The identifiers `1variable`, `var@iable`, and `my$variable` violate the naming rules of Python.\n",
    "- `1variable` starts with a digit, while `var@iable` and `my$variable` contain special characters (@, $), making them invalid identifiers.\n",
    "- These identifiers will result in syntax errors when used in a Python program.\n"
   ]
  },
  {
   "cell_type": "code",
   "execution_count": 26,
   "id": "42e43b23-3ad1-44de-b912-241c4ef58651",
   "metadata": {
    "tags": []
   },
   "outputs": [],
   "source": [
    "local = 5"
   ]
  },
  {
   "cell_type": "code",
   "execution_count": null,
   "id": "c930cde0-d87e-434a-b84d-4bc3010bda5e",
   "metadata": {},
   "outputs": [],
   "source": []
  }
 ],
 "metadata": {
  "kernelspec": {
   "display_name": "Python 3 (ipykernel)",
   "language": "python",
   "name": "python3"
  },
  "language_info": {
   "codemirror_mode": {
    "name": "ipython",
    "version": 3
   },
   "file_extension": ".py",
   "mimetype": "text/x-python",
   "name": "python",
   "nbconvert_exporter": "python",
   "pygments_lexer": "ipython3",
   "version": "3.11.5"
  }
 },
 "nbformat": 4,
 "nbformat_minor": 5
}
