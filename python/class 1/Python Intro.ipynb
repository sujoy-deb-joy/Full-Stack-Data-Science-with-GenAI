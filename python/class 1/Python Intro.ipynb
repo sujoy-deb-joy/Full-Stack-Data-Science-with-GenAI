{
 "cells": [
  {
   "cell_type": "code",
   "execution_count": 2,
   "id": "d56858d9-1be1-4d90-a44e-0d4f4e235d56",
   "metadata": {
    "tags": []
   },
   "outputs": [],
   "source": [
    "c =10"
   ]
  },
  {
   "cell_type": "code",
   "execution_count": null,
   "id": "bf6a3f51-e637-4f74-aa4f-7b436955bfc6",
   "metadata": {},
   "outputs": [],
   "source": []
  },
  {
   "cell_type": "code",
   "execution_count": 3,
   "id": "0de44635-adc6-4f60-bbbc-a3e222957c18",
   "metadata": {
    "tags": []
   },
   "outputs": [
    {
     "data": {
      "text/plain": [
       "10"
      ]
     },
     "execution_count": 3,
     "metadata": {},
     "output_type": "execute_result"
    }
   ],
   "source": [
    "c"
   ]
  },
  {
   "cell_type": "code",
   "execution_count": 4,
   "id": "2456b165-ccb5-4ace-93bf-54a1481497b4",
   "metadata": {
    "tags": []
   },
   "outputs": [],
   "source": [
    "c = \"mayank\""
   ]
  },
  {
   "cell_type": "code",
   "execution_count": 5,
   "id": "400b26c6-cec2-4ee0-b2c1-1018cdc69f70",
   "metadata": {
    "tags": []
   },
   "outputs": [
    {
     "data": {
      "text/plain": [
       "'mayank'"
      ]
     },
     "execution_count": 5,
     "metadata": {},
     "output_type": "execute_result"
    }
   ],
   "source": [
    "c"
   ]
  },
  {
   "cell_type": "code",
   "execution_count": 6,
   "id": "2fe30708-d94e-4d57-857e-bfa0de197c48",
   "metadata": {
    "tags": []
   },
   "outputs": [
    {
     "ename": "NameError",
     "evalue": "name 'prin' is not defined",
     "output_type": "error",
     "traceback": [
      "\u001b[0;31m---------------------------------------------------------------------------\u001b[0m",
      "\u001b[0;31mNameError\u001b[0m                                 Traceback (most recent call last)",
      "Cell \u001b[0;32mIn[6], line 1\u001b[0m\n\u001b[0;32m----> 1\u001b[0m prin(\u001b[38;5;124m\"\u001b[39m\u001b[38;5;124mmayank\u001b[39m\u001b[38;5;124m\"\u001b[39m)\n",
      "\u001b[0;31mNameError\u001b[0m: name 'prin' is not defined"
     ]
    }
   ],
   "source": [
    "prin(\"mayank\")"
   ]
  },
  {
   "cell_type": "code",
   "execution_count": 7,
   "id": "d8c5945f-3826-44e0-95c6-1deca9c69543",
   "metadata": {
    "tags": []
   },
   "outputs": [
    {
     "ename": "ZeroDivisionError",
     "evalue": "division by zero",
     "output_type": "error",
     "traceback": [
      "\u001b[0;31m---------------------------------------------------------------------------\u001b[0m",
      "\u001b[0;31mZeroDivisionError\u001b[0m                         Traceback (most recent call last)",
      "Cell \u001b[0;32mIn[7], line 1\u001b[0m\n\u001b[0;32m----> 1\u001b[0m \u001b[38;5;28mprint\u001b[39m(\u001b[38;5;241m1\u001b[39m\u001b[38;5;241m/\u001b[39m\u001b[38;5;241m0\u001b[39m)\n",
      "\u001b[0;31mZeroDivisionError\u001b[0m: division by zero"
     ]
    }
   ],
   "source": [
    "print(1/0)"
   ]
  },
  {
   "cell_type": "code",
   "execution_count": 9,
   "id": "36f88433-4e92-49a5-9782-591af1a5acc1",
   "metadata": {
    "tags": []
   },
   "outputs": [],
   "source": [
    "a = 10"
   ]
  },
  {
   "cell_type": "code",
   "execution_count": null,
   "id": "b5f8f5cb-8a3b-4fd7-9286-fd448ebbb85e",
   "metadata": {},
   "outputs": [],
   "source": []
  },
  {
   "cell_type": "code",
   "execution_count": null,
   "id": "f9444704-ffa6-4077-b6db-59125ddfbe3f",
   "metadata": {},
   "outputs": [],
   "source": []
  }
 ],
 "metadata": {
  "kernelspec": {
   "display_name": "Python 3 (ipykernel)",
   "language": "python",
   "name": "python3"
  },
  "language_info": {
   "codemirror_mode": {
    "name": "ipython",
    "version": 3
   },
   "file_extension": ".py",
   "mimetype": "text/x-python",
   "name": "python",
   "nbconvert_exporter": "python",
   "pygments_lexer": "ipython3",
   "version": "3.11.5"
  }
 },
 "nbformat": 4,
 "nbformat_minor": 5
}
